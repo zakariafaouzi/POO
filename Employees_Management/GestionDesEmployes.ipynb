{
 "cells": [
  {
   "cell_type": "markdown",
   "metadata": {},
   "source": [
    "## Exercice : Système de Gestion d'Employés\n",
    "\n",
    "### Objectif\n",
    "\n",
    "Développez un système de gestion d'employés qui permet de :\n",
    "\n",
    "Ajouter et gérer des employés avec des attributs comme le nom, le salaire et le poste.\n",
    "Associer des employés à des départements.\n",
    "Calculer le salaire moyen par département.\n",
    "\n",
    "### Instructions\n",
    "\n",
    "Définir les classes Employee et Department :\n",
    "\n",
    "La classe __Employee__ représente un employé avec les attributs suivants :\n",
    "\n",
    "__name__ : le nom de l'employé.\n",
    "\n",
    "__position__ : le poste de l'employé.\n",
    "\n",
    "__salary__ : le salaire de l'employé.\n",
    "\n",
    "La classe __Department__ représente un département avec les attributs suivants :\n",
    "\n",
    "__name__ : le nom du département.\n",
    "\n",
    "__employees__ : une liste d'objets Employee qui appartiennent au département.\n",
    "\n",
    "La classe Department doit aussi comporter une méthode pour ajouter un employé et une autre pour calculer le salaire moyen des employés du département.\n",
    "\n",
    "### Écrire des tests unitaires :\n",
    "\n",
    "Testez la création d'un employé et d'un département.\n",
    "\n",
    "Testez l'ajout d'employés dans un département.\n",
    "\n",
    "Testez le calcul du salaire moyen dans un département."
   ]
  },
  {
   "cell_type": "code",
   "execution_count": 1,
   "metadata": {},
   "outputs": [],
   "source": [
    "import numpy as np"
   ]
  },
  {
   "cell_type": "code",
   "execution_count": 30,
   "metadata": {},
   "outputs": [],
   "source": [
    "class Employee:\n",
    "\n",
    "    def __init__(self, name, position, salary):\n",
    "        self.name = name,\n",
    "        self.position = position,\n",
    "        self.salary = salary\n",
    "\n",
    "    def __repr__(self):\n",
    "        return f\"{self.name} - {self.position} - ${self.salary}\"\n",
    "\n",
    "class Department:\n",
    "    def __init__(self, name):\n",
    "        self.name = name\n",
    "        self.employees = []\n",
    "\n",
    "    def add_employee(self, employe):\n",
    "        self.employees.append(employe)\n",
    "\n",
    "    def average_salary(self):\n",
    "        list_salaries = [employe.salary for employe in self.employees]\n",
    "        return np.mean(list_salaries)\n",
    "    "
   ]
  },
  {
   "cell_type": "code",
   "execution_count": 33,
   "metadata": {},
   "outputs": [
    {
     "name": "stdout",
     "output_type": "stream",
     "text": [
      "55000.0\n"
     ]
    }
   ],
   "source": [
    "dept = Department(\"IT\")\n",
    "\n",
    "# Créer des employés\n",
    "emp1 = Employee(\"Alice\", \"Manager\", 60000)\n",
    "emp2 = Employee(\"Bob\", \"Developer\", 50000)\n",
    "\n",
    "# Ajouter les employés\n",
    "dept.add_employee(emp1)\n",
    "dept.add_employee(emp2)\n",
    "\n",
    "# Ssalaire moyen\n",
    "print(dept.average_salary())\n"
   ]
  },
  {
   "cell_type": "markdown",
   "metadata": {},
   "source": [
    "### Les tests unitaires\n",
    "\n",
    "__test_create_employee__ : vérifie la création d'un employé avec ses attributs.\n",
    "\n",
    "__test_create_department__ : vérifie la création d'un département sans employés.\n",
    "\n",
    "__test_add_employee__ : vérifie l'ajout d'un employé dans un département.\n",
    "\n",
    "__test_average_salary__ : vérifie le calcul du salaire moyen dans un département avec des employés.\n",
    "\n",
    "__test_average_salary_no_employees__ : vérifie que le salaire moyen est 0 lorsqu'il n'y a pas d'employés."
   ]
  },
  {
   "cell_type": "code",
   "execution_count": 34,
   "metadata": {},
   "outputs": [],
   "source": [
    "import unittest"
   ]
  },
  {
   "cell_type": "code",
   "execution_count": null,
   "metadata": {},
   "outputs": [],
   "source": [
    "class TestEmployeeManagement(unittest.TestCase):\n",
    "    def test_create_employee(self):\n",
    "        emp = Employee(\"Zakaria\", \"DS\", 48000)\n",
    "        self.assertEqual(emp.name, \"Zakaria\")\n",
    "        self.assertEqual(emp.position, \"DS\")\n",
    "        self.assertEqual(emp.salary, 48000)\n",
    "\n",
    "    def tes_create_department(self):\n",
    "        dep = Department(\"SupplyChain\")\n",
    "        self.assertEqual(dep.name, \"SupplyChain\")\n",
    "        self.assertEqual(len(dep.employees), 0)\n",
    "\n",
    "    def test_add_employee(self):\n",
    "        dept = Department(\"Finance\")\n",
    "        employe = Employee(\"Simo\", \"DataEngineer\", 46000)\n",
    "        dept.add_employee(employe=employe)\n",
    "        "
   ]
  }
 ],
 "metadata": {
  "kernelspec": {
   "display_name": "Python 3",
   "language": "python",
   "name": "python3"
  },
  "language_info": {
   "codemirror_mode": {
    "name": "ipython",
    "version": 3
   },
   "file_extension": ".py",
   "mimetype": "text/x-python",
   "name": "python",
   "nbconvert_exporter": "python",
   "pygments_lexer": "ipython3",
   "version": "3.12.5"
  }
 },
 "nbformat": 4,
 "nbformat_minor": 2
}
