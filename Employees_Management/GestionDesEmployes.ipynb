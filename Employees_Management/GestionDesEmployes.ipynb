{
 "cells": [
  {
   "cell_type": "markdown",
   "metadata": {},
   "source": [
    "## Exercice : Système de Gestion d'Employés\n",
    "\n",
    "### Objectif\n",
    "\n",
    "Développez un système de gestion d'employés qui permet de :\n",
    "\n",
    "Ajouter et gérer des employés avec des attributs comme le nom, le salaire et le poste.\n",
    "Associer des employés à des départements.\n",
    "Calculer le salaire moyen par département.\n",
    "\n",
    "### Instructions\n",
    "\n",
    "Définir les classes Employee et Department :\n",
    "\n",
    "La classe __Employee__ représente un employé avec les attributs suivants :\n",
    "\n",
    "__name__ : le nom de l'employé.\n",
    "\n",
    "__position__ : le poste de l'employé.\n",
    "\n",
    "__salary__ : le salaire de l'employé.\n",
    "\n",
    "La classe __Department__ représente un département avec les attributs suivants :\n",
    "\n",
    "__name__ : le nom du département.\n",
    "\n",
    "__employees__ : une liste d'objets Employee qui appartiennent au département.\n",
    "\n",
    "La classe Department doit aussi comporter une méthode pour ajouter un employé et une autre pour calculer le salaire moyen des employés du département.\n",
    "\n",
    "### Écrire des tests unitaires :\n",
    "\n",
    "Testez la création d'un employé et d'un département.\n",
    "\n",
    "Testez l'ajout d'employés dans un département.\n",
    "\n",
    "Testez le calcul du salaire moyen dans un département."
   ]
  },
  {
   "cell_type": "code",
   "execution_count": 1,
   "metadata": {},
   "outputs": [],
   "source": [
    "import numpy as np"
   ]
  },
  {
   "cell_type": "code",
   "execution_count": 49,
   "metadata": {},
   "outputs": [],
   "source": [
    "class Employee:\n",
    "    def __init__(self, name, position, salary):\n",
    "        self.name = name\n",
    "        self.position = position\n",
    "        self.salary = salary\n",
    "\n",
    "    def __repr__(self):\n",
    "        return f\"{self.name} - {self.position} - ${self.salary}\"\n",
    "\n",
    "class Department:\n",
    "    def __init__(self, name):\n",
    "        self.name = name\n",
    "        self.employees = []\n",
    "\n",
    "    def add_employee(self, employee):\n",
    "        self.employees.append(employee)\n",
    "\n",
    "    def average_salary(self):\n",
    "        if not self.employees:\n",
    "            return 0\n",
    "        total_salary = sum(employee.salary for employee in self.employees)\n",
    "        return total_salary / len(self.employees)"
   ]
  },
  {
   "cell_type": "code",
   "execution_count": 38,
   "metadata": {},
   "outputs": [
    {
     "name": "stdout",
     "output_type": "stream",
     "text": [
      "55000.0\n"
     ]
    }
   ],
   "source": [
    "dept = Department(\"IT\")\n",
    "\n",
    "# Créer des employés\n",
    "emp1 = Employee(\"Alice\", \"Manager\", 60000)\n",
    "emp2 = Employee(\"Bob\", \"Developer\", 50000)\n",
    "\n",
    "# Ajouter les employés\n",
    "dept.add_employee(emp1)\n",
    "dept.add_employee(emp2)\n",
    "\n",
    "# Ssalaire moyen\n",
    "print(dept.average_salary())\n"
   ]
  },
  {
   "cell_type": "markdown",
   "metadata": {},
   "source": [
    "### Les tests unitaires\n",
    "\n",
    "__test_create_employee__ : vérifie la création d'un employé avec ses attributs.\n",
    "\n",
    "__test_create_department__ : vérifie la création d'un département sans employés.\n",
    "\n",
    "__test_add_employee__ : vérifie l'ajout d'un employé dans un département.\n",
    "\n",
    "__test_average_salary__ : vérifie le calcul du salaire moyen dans un département avec des employés.\n",
    "\n",
    "__test_average_salary_no_employees__ : vérifie que le salaire moyen est 0 lorsqu'il n'y a pas d'employés."
   ]
  },
  {
   "cell_type": "code",
   "execution_count": 34,
   "metadata": {},
   "outputs": [],
   "source": [
    "import unittest"
   ]
  },
  {
   "cell_type": "code",
   "execution_count": 52,
   "metadata": {},
   "outputs": [
    {
     "name": "stderr",
     "output_type": "stream",
     "text": [
      ".C:\\Users\\Zakaria-Laptop\\AppData\\Roaming\\Python\\Python312\\site-packages\\jupyter_client\\session.py:200: DeprecationWarning: datetime.datetime.utcnow() is deprecated and scheduled for removal in a future version. Use timezone-aware objects to represent datetimes in UTC: datetime.datetime.now(datetime.UTC).\n",
      "  return datetime.utcnow().replace(tzinfo=utc)  # noqa\n",
      ".....\n",
      "----------------------------------------------------------------------\n",
      "Ran 6 tests in 0.003s\n",
      "\n",
      "OK\n"
     ]
    }
   ],
   "source": [
    "class TestEmployeeManagement(unittest.TestCase):\n",
    "    def test_create_employee(self):\n",
    "        emp = Employee(\"Alice\", \"Manager\", 60000)\n",
    "        self.assertEqual(emp.name, \"Alice\")\n",
    "        self.assertEqual(emp.position, \"Manager\")\n",
    "        self.assertEqual(emp.salary, 60000)\n",
    "\n",
    "    def test_create_department(self):\n",
    "        dept = Department(\"IT\")\n",
    "        self.assertEqual(dept.name, \"IT\")\n",
    "        self.assertEqual(len(dept.employees), 0)\n",
    "\n",
    "    def test_add_employee(self):\n",
    "        dept = Department(\"Finance\")\n",
    "        emp = Employee(\"Charlie\", \"Analyst\", 45000)\n",
    "        dept.add_employee(emp)\n",
    "        self.assertEqual(len(dept.employees), 1)\n",
    "        self.assertEqual(dept.employees[0].name, \"Charlie\")\n",
    "\n",
    "    def test_average_salary(self):\n",
    "        dept = Department(\"HR\")\n",
    "        emp1 = Employee(\"Alice\", \"Manager\", 60000)\n",
    "        emp2 = Employee(\"Bob\", \"Developer\", 50000)\n",
    "        dept.add_employee(emp1)\n",
    "        dept.add_employee(emp2)\n",
    "        self.assertAlmostEqual(dept.average_salary(), 55000.0)\n",
    "\n",
    "    def test_average_salary_no_employees(self):\n",
    "        dept = Department(\"Empty Dept\")\n",
    "        self.assertEqual(dept.average_salary(), 0)\n",
    "\n",
    "if __name__ == \"__main__\":\n",
    "    unittest.main(argv=[''], exit=False)"
   ]
  }
 ],
 "metadata": {
  "kernelspec": {
   "display_name": "Python 3",
   "language": "python",
   "name": "python3"
  },
  "language_info": {
   "codemirror_mode": {
    "name": "ipython",
    "version": 3
   },
   "file_extension": ".py",
   "mimetype": "text/x-python",
   "name": "python",
   "nbconvert_exporter": "python",
   "pygments_lexer": "ipython3",
   "version": "3.12.5"
  }
 },
 "nbformat": 4,
 "nbformat_minor": 2
}
