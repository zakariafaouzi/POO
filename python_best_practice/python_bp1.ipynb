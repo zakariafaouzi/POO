{
 "cells": [
  {
   "cell_type": "markdown",
   "id": "2d7f4092",
   "metadata": {},
   "source": [
    "| Syntaxe    | Description                              | Type de données reçu   |\n",
    "|------------|----------------------------------------|-----------------------|\n",
    "| `*args`    | Arguments positionnels variables        | tuple                 |\n",
    "| `**kwargs` | Arguments nommés (key=value) variables | dictionnaire (dict)   |\n"
   ]
  },
  {
   "cell_type": "code",
   "execution_count": 9,
   "id": "d9c59e1e",
   "metadata": {},
   "outputs": [
    {
     "name": "stdout",
     "output_type": "stream",
     "text": [
      "5\n",
      "21\n",
      "5\n",
      "nom = Faouzi\n",
      "age = 25\n"
     ]
    }
   ],
   "source": [
    "def addition(*args):\n",
    "    c = 0\n",
    "    for elm in args:\n",
    "        c += elm\n",
    "    return c\n",
    "\n",
    "def afficher_infos(**kwargs):\n",
    "    for cle, valeur in kwargs.items():\n",
    "        print(f\"{cle} = {valeur}\")\n",
    "\n",
    "print(addition(2, 3))\n",
    "print(addition(2, 3, 7, 9))\n",
    "print(addition(2, 3, 0))\n",
    "\n",
    "afficher_infos(nom=\"Faouzi\", age=25)\n",
    "\n",
    "\n"
   ]
  },
  {
   "cell_type": "markdown",
   "id": "eddaf7bf",
   "metadata": {},
   "source": [
    "### Un décorateur python\n",
    "\n",
    "__Un décorateur__ est une fonction qui modifie le comportement d'autres fonctions.\n",
    "\n",
    "__Les décorateurs__ sont utiles lorsque l'on veut ajouter du même code à plusieurs fonctions existantes.\n",
    "\n",
    "Les décorateurs sont très utiles pour :\n",
    "\n",
    "✅ Ajouter des comportements communs à plusieurs fonctions sans copier-coller\n",
    "\n",
    "✅ Faire du logging (journalisation)\n",
    "\n",
    "✅ Mesurer le temps d’exécution\n",
    "\n",
    "✅ Gérer les droits d’accès ou les permissions"
   ]
  },
  {
   "cell_type": "code",
   "execution_count": 1,
   "id": "4fbbc11f",
   "metadata": {},
   "outputs": [
    {
     "name": "stdout",
     "output_type": "stream",
     "text": [
      "Hello, World!\n"
     ]
    }
   ],
   "source": [
    "print(\"Hello, World!\")"
   ]
  },
  {
   "cell_type": "code",
   "execution_count": 3,
   "id": "cbeacc33",
   "metadata": {},
   "outputs": [
    {
     "name": "stdout",
     "output_type": "stream",
     "text": [
      "Avant la fonction\n",
      "Bonjour!\n",
      "Après la fonction\n"
     ]
    }
   ],
   "source": [
    "\"Ici, le décorateur mon_decorateur enveloppe dire_bonjour et ajoute du code avant et après.\"\n",
    "\n",
    "def mon_decorateur(fonction):\n",
    "    def wrapper():\n",
    "        print(\"Avant la fonction\")\n",
    "        fonction()\n",
    "        print(\"Après la fonction\")\n",
    "    return wrapper\n",
    "\n",
    "@mon_decorateur\n",
    "def dire_bonjour():\n",
    "    print('Bonjour!')\n",
    "\n",
    "dire_bonjour()"
   ]
  },
  {
   "cell_type": "code",
   "execution_count": 13,
   "id": "e24c383c",
   "metadata": {},
   "outputs": [
    {
     "name": "stdout",
     "output_type": "stream",
     "text": [
      "Appel de addition avec (2, 3, 6) {}\n",
      "Appel de soustraction avec (4, 2) {}\n"
     ]
    },
    {
     "data": {
      "text/plain": [
       "2"
      ]
     },
     "execution_count": 13,
     "metadata": {},
     "output_type": "execute_result"
    }
   ],
   "source": [
    "# Cas 1: Logging\n",
    "\n",
    "def log(f):\n",
    "\n",
    "    def wrapper(*args, **kwargs):\n",
    "        print(f\"Appel de {f.__name__} avec {args} {kwargs}\")\n",
    "        return f(*args, **kwargs)\n",
    "    return wrapper\n",
    "\n",
    "@log\n",
    "def addition(*args):\n",
    "    return sum(args)\n",
    "\n",
    "@log\n",
    "def soustraction(a, b):\n",
    "    return a - b\n",
    "\n",
    "addition(2, 3, 6)\n",
    "soustraction(4, 2)"
   ]
  },
  {
   "cell_type": "code",
   "execution_count": 15,
   "id": "3ac287a6",
   "metadata": {},
   "outputs": [
    {
     "name": "stdout",
     "output_type": "stream",
     "text": [
      "Tache terminée\n",
      "Le temps d'execution est = 2.0018 secondes\n"
     ]
    }
   ],
   "source": [
    "# Temps d'execution\n",
    "import time\n",
    "\n",
    "def chronometre(function):\n",
    "    def wrapper(*args, **kwargs):\n",
    "        start = time.time()\n",
    "        results = function(*args, **kwargs)\n",
    "        fin = time.time()\n",
    "        print(f\"Le temps d'execution est = {fin - start:.4f} secondes\")\n",
    "        return results\n",
    "    return wrapper\n",
    "\n",
    "@chronometre\n",
    "def tache_lourde():\n",
    "    time.sleep(2)\n",
    "    print(\"Tache terminée\")\n",
    "\n",
    "tache_lourde()    \n",
    "\n"
   ]
  }
 ],
 "metadata": {
  "kernelspec": {
   "display_name": "base",
   "language": "python",
   "name": "python3"
  },
  "language_info": {
   "codemirror_mode": {
    "name": "ipython",
    "version": 3
   },
   "file_extension": ".py",
   "mimetype": "text/x-python",
   "name": "python",
   "nbconvert_exporter": "python",
   "pygments_lexer": "ipython3",
   "version": "3.11.4"
  }
 },
 "nbformat": 4,
 "nbformat_minor": 5
}
